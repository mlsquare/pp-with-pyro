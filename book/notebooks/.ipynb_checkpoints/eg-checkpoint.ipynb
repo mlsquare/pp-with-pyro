{
 "cells": [
  {
   "cell_type": "markdown",
   "metadata": {},
   "source": [
    "# Jupyter Notebook files\n",
    "\n",
    "You can create content with Jupyter notebooks.\n",
    "For example, the content for the current page is contained in {download}`this notebook file <./notebooks.ipynb>`.\n",
    "\n",
    "```{margin}\n",
    "If you'd like to write in plain-text files, but still keep a notebook structure, you can write\n",
    "Jupyter notebooks with MyST Markdown, which are then automatically converted to notebooks.\n",
    "See [](./myst-notebooks.md) for more details.\n",
    "```\n",
    "\n",
    "Jupyter Book supports all Markdown that is supported by Jupyter Notebook.\n",
    "This is mostly a flavour of Markdown called [CommonMark Markdown](https://commonmark.org/) with minor modifications.\n",
    "For more information about writing Jupyter-flavoured Markdown in Jupyter Book, see [](./markdown.md).\n",
    "\n",
    "## Code blocks and image outputs\n",
    "\n",
    "Jupyter Book will also embed your code blocks and output in your book.\n",
    "For example, here's some sample Matplotlib code:"
   ]
  },
  {
   "cell_type": "code",
   "execution_count": 7,
   "metadata": {},
   "outputs": [
    {
     "name": "stdout",
     "output_type": "stream",
     "text": [
      "2\n"
     ]
    }
   ],
   "source": [
    "print(1+1)"
   ]
  },
  {
   "cell_type": "code",
   "execution_count": null,
   "metadata": {},
   "outputs": [],
   "source": []
  }
 ],
 "metadata": {
  "kernelspec": {
   "display_name": "Python 3",
   "language": "python",
   "name": "python3"
  },
  "language_info": {
   "codemirror_mode": {
    "name": "ipython",
    "version": 3
   },
   "file_extension": ".py",
   "mimetype": "text/x-python",
   "name": "python",
   "nbconvert_exporter": "python",
   "pygments_lexer": "ipython3",
   "version": "3.8.5"
  }
 },
 "nbformat": 4,
 "nbformat_minor": 4
}
