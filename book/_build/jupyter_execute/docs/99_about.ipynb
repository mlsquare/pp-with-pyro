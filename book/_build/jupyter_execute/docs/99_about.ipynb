{
 "cells": [
  {
   "cell_type": "markdown",
   "metadata": {},
   "source": [
    "(99_about)=\n",
    "\n",
    "# About\n",
    "\n",
    "## About the author\n",
    "\n",
    "Soma S Dhavala is an ML Architect and founder of mlsquare.org, an open-source initiative to democratize AI. He operates at the interface of Statistics, Machine Learning, Computing, and Internet of Things. His interests are in Graphs, Meta Machine Learning and their application in representing, and reasoning with information. Soma obtained his Ph.D (TAMU, 2010) in Statistics where he worked on applying Bayesian Nonparametrics to systems biology (2010), has a Masters (IIT-M, 2000)  in EE and a B.E (SRKREC-Andhra University, 1997) in ECE. He also worked as a postdoc close to a year in the area of Dynamical Systems at TAMU.  He has over 10+ publications and multiple patents. His industrial experience spans EdTech, Healthcare and Life Sciences, among others.\n",
    "\n",
    "His Twitter account http://twitter.com/thesaddlepoint[@thesaddlepoint]."
   ]
  }
 ],
 "metadata": {
  "jupytext": {
   "text_representation": {
    "extension": ".md",
    "format_name": "myst"
   }
  },
  "kernelspec": {
   "display_name": "Python 3",
   "language": "python",
   "name": "python3"
  },
  "language_info": {
   "codemirror_mode": {
    "name": "ipython",
    "version": 3
   },
   "file_extension": ".py",
   "mimetype": "text/x-python",
   "name": "python",
   "nbconvert_exporter": "python",
   "pygments_lexer": "ipython3",
   "version": "3.8.5"
  },
  "source_map": [
   10
  ]
 },
 "nbformat": 4,
 "nbformat_minor": 4
}